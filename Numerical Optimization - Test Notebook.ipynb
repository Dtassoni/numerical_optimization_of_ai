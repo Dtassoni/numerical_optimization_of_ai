{
 "cells": [
  {
   "cell_type": "markdown",
   "id": "2eb54e11",
   "metadata": {},
   "source": [
    "<h2>Numerical Optimization - Testing Functions</h2>\n",
    "<p>This notebook provides test cases for all the functions defined in the numerical_methods module to help in understanding of the functions as well as the input / output."
   ]
  },
  {
   "cell_type": "code",
   "execution_count": 2,
   "id": "53753ef6",
   "metadata": {},
   "outputs": [],
   "source": [
    "# import the module\n",
    "from numerical_methods import *"
   ]
  },
  {
   "cell_type": "markdown",
   "id": "36d52a34",
   "metadata": {},
   "source": [
    "<h3>Differentiation</h3>"
   ]
  },
  {
   "cell_type": "code",
   "execution_count": 6,
   "id": "2f7f0436",
   "metadata": {},
   "outputs": [],
   "source": [
    "# define some functions f and g for the computations\n",
    "f = lambda x: x**2\n",
    "g = lambda x: x**3 + a*(x**2) + 3*x\n",
    "a = 3\n",
    "x = 2"
   ]
  },
  {
   "cell_type": "markdown",
   "id": "59274719",
   "metadata": {},
   "source": [
    "To compare the numerical approximation with the analytical derivative:\n",
    "\n",
    "$$f(x) = x^2$$\n",
    "$$f'(x) = 2 x$$\n",
    "$$f'(2) = 4$$\n",
    "\n",
    "$$g(x) = x^3 + a x^2 + 3 x$$\n",
    "$$g'(x) = 3 x^2 + 2 a x + 3$$\n",
    "$$g'(2) = 3(4) + 2(3)(2) + 3 = 27$$"
   ]
  },
  {
   "cell_type": "code",
   "execution_count": 11,
   "id": "6322fc26",
   "metadata": {},
   "outputs": [
    {
     "name": "stdout",
     "output_type": "stream",
     "text": [
      "Considering f(x) = x^2; evaluate f'(2)\n",
      "------------------------------\n",
      "h = 1, forward differentiation = 5.0\n",
      "h = 0.1, forward differentiation = 4.100000000000001\n",
      "h = 0.01, forward differentiation = 4.009999999999891\n",
      "h = 0.001, forward differentiation = 4.000999999999699\n",
      "h = 0.0001, forward differentiation = 4.0001000000078335\n",
      "\n",
      "h = 1, backward differentiation = 3.0\n",
      "h = 0.1, backward differentiation = 3.9000000000000012\n",
      "h = 0.01, backward differentiation = 3.9899999999999824\n",
      "h = 0.001, backward differentiation = 3.9989999999994197\n",
      "h = 0.0001, backward differentiation = 3.999900000000167\n",
      "\n",
      "h = 1, central differentiation = 4.0\n",
      "h = 0.1, central differentiation = 4.000000000000001\n",
      "h = 0.01, central differentiation = 3.999999999999937\n",
      "h = 0.001, central differentiation = 3.9999999999995595\n",
      "h = 0.0001, central differentiation = 4.000000000004\n",
      "\n",
      "Considering g(x) = x^3 + ax^2 + 3x; evaluate g'(2)\n",
      "------------------------------\n",
      "h = 1, forward differentiation = 37.0\n",
      "h = 0.1, forward differentiation = 27.910000000000004\n",
      "h = 0.01, forward differentiation = 27.090099999999495\n",
      "h = 0.001, forward differentiation = 27.009000999996147\n",
      "h = 0.0001, forward differentiation = 27.00090001006572\n",
      "\n",
      "h = 1, backward differentiation = 19.0\n",
      "h = 0.1, backward differentiation = 26.110000000000007\n",
      "h = 0.01, backward differentiation = 26.910099999999915\n",
      "h = 0.001, backward differentiation = 26.991000999995407\n",
      "h = 0.0001, backward differentiation = 26.999100009987842\n",
      "\n",
      "h = 1, central differentiation = 28.0\n",
      "h = 0.1, central differentiation = 27.010000000000005\n",
      "h = 0.01, central differentiation = 27.000099999999705\n",
      "h = 0.001, central differentiation = 27.000000999995777\n",
      "h = 0.0001, central differentiation = 27.00000001002678\n"
     ]
    }
   ],
   "source": [
    "step_sizes = [1, 0.1, 0.01, 0.001, 0.0001]\n",
    "\n",
    "print(\"Considering f(x) = x^2; evaluate f'(2)\")\n",
    "print('-'*30)\n",
    "for h in step_sizes:\n",
    "    print(f\"h = {h}, forward differentiation = {forward_difference(f, x, h)}\")\n",
    "\n",
    "print()\n",
    "for h in step_sizes:\n",
    "    print(f\"h = {h}, backward differentiation = {backward_difference(f, x, h)}\")\n",
    "\n",
    "print()\n",
    "for h in step_sizes:\n",
    "    print(f\"h = {h}, central differentiation = {central_difference(f, x, h)}\")\n",
    "    \n",
    "\n",
    "print(\"\\nConsidering g(x) = x^3 + ax^2 + 3x; evaluate g'(2)\")\n",
    "print('-'*30)\n",
    "for h in step_sizes:\n",
    "    print(f\"h = {h}, forward differentiation = {forward_difference(g, x, h, a)}\")\n",
    "\n",
    "print()\n",
    "for h in step_sizes:\n",
    "    print(f\"h = {h}, backward differentiation = {backward_difference(g, x, h, a)}\")\n",
    "\n",
    "print()\n",
    "for h in step_sizes:\n",
    "    print(f\"h = {h}, central differentiation = {central_difference(g, x, h, a)}\")"
   ]
  },
  {
   "cell_type": "markdown",
   "id": "2fba96dd",
   "metadata": {},
   "source": [
    "<h3>Integration</h3>"
   ]
  },
  {
   "cell_type": "code",
   "execution_count": 22,
   "id": "451210c4",
   "metadata": {},
   "outputs": [],
   "source": [
    "# define some functions f and g for the computations\n",
    "f = lambda x: x**2\n",
    "g = lambda x: x**3 + m*(x**2) + 3*x\n",
    "m = 2\n",
    "a = 0\n",
    "b = 1"
   ]
  },
  {
   "cell_type": "markdown",
   "id": "2cd80bf7",
   "metadata": {},
   "source": [
    "To compare the numerical approximation with the analytical integration:\n",
    "\n",
    "$$f(x) = x^2$$\n",
    "$$\\int f(x) dx = \\frac{x^3}{3} = \\frac{1}{3}, \\quad at \\quad x = [0, 1]$$\n",
    "\n",
    "$$g(x) = x^3 + m x^2 + 3 x$$\n",
    "$$\\int g(x) dx = \\frac{x^4}{4} + \\frac{m x^3}{3} + \\frac{3 x^3}{2} = \\frac{29}{12}, \\quad at \\quad x = [0, 1], m = 2 $$"
   ]
  },
  {
   "cell_type": "code",
   "execution_count": 24,
   "id": "86b4541e",
   "metadata": {},
   "outputs": [
    {
     "name": "stdout",
     "output_type": "stream",
     "text": [
      "Considering f(x); evaluate the integral from [a=0, b=1]\n",
      "------------------------------\n",
      "n = 1, Trapezoidal Rule:  0.5\n",
      "n = 50, Trapezoidal Rule:  0.33340000000000003\n",
      "n = 100, Trapezoidal Rule:  0.33335000000000004\n",
      "n = 1, Simpson's Rule:  0.3333333333333333\n",
      "n = 50, Simpson's Rule:  0.33333333333333337\n",
      "n = 100, Simpson's Rule:  0.33333333333333337\n",
      "\n",
      "Considering g(x); evaluate the integral from [a=0, b=1]\n",
      "------------------------------\n",
      "n = 1, Trapezoidal Rule:  3.0\n",
      "n = 50, Trapezoidal Rule:  2.4169000000000005\n",
      "n = 100, Trapezoidal Rule:  2.416725\n",
      "n = 1, Simpson's Rule:  2.0\n",
      "n = 50, Simpson's Rule:  2.416666666666667\n",
      "n = 100, Simpson's Rule:  2.416666666666667\n"
     ]
    }
   ],
   "source": [
    "intervals = [1, 50, 100]\n",
    "\n",
    "print(\"Considering f(x); evaluate the integral from [a=0, b=1]\")\n",
    "print('-'*30)\n",
    "for n in intervals:\n",
    "    print(f\"n = {n}, Trapezoidal Rule: \", trapezoidal(f, a, b, n))\n",
    "\n",
    "for n in intervals:\n",
    "    print(f\"n = {n}, Simpson's Rule: \", simpson(f, a, b, n))\n",
    "    \n",
    "print(\"\\nConsidering g(x); evaluate the integral from [a=0, b=1]\")\n",
    "print('-'*30)\n",
    "for n in intervals:\n",
    "    print(f\"n = {n}, Trapezoidal Rule: \", trapezoidal(g, a, b, n, m))\n",
    "\n",
    "for n in intervals:\n",
    "    print(f\"n = {n}, Simpson's Rule: \", simpson(g, a, b, n, m))"
   ]
  },
  {
   "cell_type": "markdown",
   "id": "307cc64e",
   "metadata": {},
   "source": [
    "<h3>Interpolation</h3>"
   ]
  },
  {
   "cell_type": "code",
   "execution_count": null,
   "id": "b03ff923",
   "metadata": {},
   "outputs": [],
   "source": []
  }
 ],
 "metadata": {
  "kernelspec": {
   "display_name": "myenv",
   "language": "python",
   "name": "myenv"
  },
  "language_info": {
   "codemirror_mode": {
    "name": "ipython",
    "version": 3
   },
   "file_extension": ".py",
   "mimetype": "text/x-python",
   "name": "python",
   "nbconvert_exporter": "python",
   "pygments_lexer": "ipython3",
   "version": "3.10.1"
  }
 },
 "nbformat": 4,
 "nbformat_minor": 5
}
