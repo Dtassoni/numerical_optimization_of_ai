{
 "cells": [
  {
   "cell_type": "markdown",
   "id": "2eb54e11",
   "metadata": {},
   "source": [
    "<h2>Numerical Optimization - Testing Functions</h2>\n",
    "<p>This notebook provides test cases for all the functions defined in the numerical_methods module to help in understanding of the functions as well as the input / output."
   ]
  },
  {
   "cell_type": "code",
   "execution_count": 1,
   "id": "53753ef6",
   "metadata": {},
   "outputs": [],
   "source": [
    "# import the module\n",
    "from numerical_methods import *"
   ]
  },
  {
   "cell_type": "markdown",
   "id": "36d52a34",
   "metadata": {},
   "source": [
    "<h3>Differentiation</h3>"
   ]
  },
  {
   "cell_type": "code",
   "execution_count": 2,
   "id": "65f2e801",
   "metadata": {},
   "outputs": [],
   "source": [
    "# define functions f and g as follows\n",
    "f = lambda x: x**2\n",
    "g = lambda x: x**3 + a*(x**2) + 3*x\n",
    "a = 3\n",
    "x = 2\n",
    "h = 0.01"
   ]
  },
  {
   "cell_type": "markdown",
   "id": "59274719",
   "metadata": {},
   "source": [
    "To compare the numerical approximation with the analytical derivative:\n",
    "\n",
    "$$f(x) = x^2$$\n",
    "$$f'(x) = 2 x$$\n",
    "$$f'(2) = 4$$\n",
    "\n",
    "$$g(x) = x^3 + a x^2 + 3 x$$\n",
    "$$g'(x) = 3 x^2 + 2 a x + 3$$\n",
    "$$g'(2) = 3(4) + 2(3)(2) + 3 = 27$$"
   ]
  },
  {
   "cell_type": "code",
   "execution_count": 3,
   "id": "6322fc26",
   "metadata": {},
   "outputs": [
    {
     "name": "stdout",
     "output_type": "stream",
     "text": [
      "Considering f(x); evaluate f'(2)\n",
      "Forward differentiation:  4.009999999999891\n",
      "Backward differentiation:  3.9899999999999824\n",
      "Central differentiation:  3.999999999999937\n",
      "--------------------------------------------------\n",
      "Considering g(x); evaluate g'(2)\n",
      "Forward differentiation:  27.090099999999495\n",
      "Backward differentiation:  26.910099999999915\n",
      "Central differentiation:  27.000099999999705\n"
     ]
    }
   ],
   "source": [
    "print(\"Considering f(x); evaluate f'(2)\")\n",
    "print(\"Forward differentiation: \", forward_difference(f, x, h))\n",
    "print(\"Backward differentiation: \", backward_difference(f, x, h))\n",
    "print(\"Central differentiation: \", central_difference(f, x, h))\n",
    "\n",
    "print('-'*50)\n",
    "print(\"Considering g(x); evaluate g'(2)\")\n",
    "print(\"Forward differentiation: \", forward_difference(g, x, h, a))\n",
    "print(\"Backward differentiation: \", backward_difference(g, x, h, a))\n",
    "print(\"Central differentiation: \", central_difference(g, x, h, a))"
   ]
  },
  {
   "cell_type": "code",
   "execution_count": null,
   "id": "b10ef7a5",
   "metadata": {},
   "outputs": [],
   "source": []
  }
 ],
 "metadata": {
  "kernelspec": {
   "display_name": "myenv",
   "language": "python",
   "name": "myenv"
  },
  "language_info": {
   "codemirror_mode": {
    "name": "ipython",
    "version": 3
   },
   "file_extension": ".py",
   "mimetype": "text/x-python",
   "name": "python",
   "nbconvert_exporter": "python",
   "pygments_lexer": "ipython3",
   "version": "3.10.1"
  }
 },
 "nbformat": 4,
 "nbformat_minor": 5
}
