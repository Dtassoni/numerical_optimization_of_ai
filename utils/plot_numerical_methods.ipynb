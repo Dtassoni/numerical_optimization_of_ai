{
 "cells": [
  {
   "cell_type": "markdown",
   "id": "8d8b7052",
   "metadata": {},
   "source": [
    "## Numerical Approximation Methods - Graphical Representations"
   ]
  },
  {
   "cell_type": "markdown",
   "id": "97008e21",
   "metadata": {},
   "source": [
    "This notebook showcases graphical representations of the numerical approximation techniques that have been implemented in this repository."
   ]
  },
  {
   "cell_type": "code",
   "execution_count": 20,
   "id": "0a5ed3ea",
   "metadata": {},
   "outputs": [],
   "source": [
    "import math\n",
    "import numpy as np\n",
    "import matplotlib.pyplot as plt\n",
    "%matplotlib inline"
   ]
  },
  {
   "cell_type": "markdown",
   "id": "09998c5f",
   "metadata": {},
   "source": [
    "### Lagrange Interpolation"
   ]
  },
  {
   "cell_type": "code",
   "execution_count": 9,
   "id": "d5072a5e",
   "metadata": {},
   "outputs": [],
   "source": [
    "def lagrange_interpolation(x_values, y_values):\n",
    "    \"\"\"\n",
    "    This function performs Lagrange interpolation.\n",
    "    param: x_values: list of x values\n",
    "    param: y_values: list of y values\n",
    "    return: function that interpolates the given points\n",
    "    \"\"\"\n",
    "\n",
    "    def _basis(j, x):\n",
    "        \"\"\"\n",
    "        This function returns the basis function for the jth point.\n",
    "        \"\"\"\n",
    "        p = [(x - x_values[m]) / (x_values[j] - x_values[m]) for m in range(k) if m != j]\n",
    "        return np.prod(p)\n",
    "    \n",
    "    k = len(x_values)\n",
    "    return lambda x: sum(_basis(j, x) * y_values[j] for j in range(k))"
   ]
  },
  {
   "cell_type": "code",
   "execution_count": 10,
   "id": "f72a40f7",
   "metadata": {},
   "outputs": [],
   "source": [
    "def lagrange_interpolation_plot(x_values, y_values):\n",
    "    \"\"\"\n",
    "    This function plots the Lagrange interpolation.\n",
    "    param: x_values: list of x values\n",
    "    param: y_values: list of y values\n",
    "    \"\"\"\n",
    "    \n",
    "    x = np.linspace(min(x_values), max(x_values), 100)\n",
    "    y = [lagrange_interpolation(x_values, y_values)(i) for i in x]\n",
    "    \n",
    "    plt.plot(x, y, 'b', x_values, y_values, 'ro')\n",
    "    plt.show()"
   ]
  },
  {
   "cell_type": "code",
   "execution_count": 11,
   "id": "604f0bfd",
   "metadata": {},
   "outputs": [
    {
     "data": {
      "image/png": "[encoded data removed]",
      "text/plain": [
       "<Figure size 640x480 with 1 Axes>"
      ]
     },
     "metadata": {},
     "output_type": "display_data"
    }
   ],
   "source": [
    "x_values = [1, 2, 3, 4, 5, 6, 7, 8, 9, 10]\n",
    "y_values = [1, 4, 9, 16, 25, 36, 49, 64, 81, 100]\n",
    "lagrange_interpolation_plot(x_values, y_values)"
   ]
  },
  {
   "cell_type": "markdown",
   "id": "7d3941e4",
   "metadata": {},
   "source": [
    "### Spline Interpolation"
   ]
  },
  {
   "cell_type": "code",
   "execution_count": 15,
   "id": "27513187",
   "metadata": {},
   "outputs": [],
   "source": [
    "def cubic_spline(x_values, y_values):\n",
    "    \"\"\"\n",
    "    This function performs cubic spline interpolation.\n",
    "    param: x_values: list of x values\n",
    "    param: y_values: list of y values\n",
    "    return: function that interpolates the given points\n",
    "    \"\"\"\n",
    "    n = len(x_values)\n",
    "    h = [x_values[i+1] - x_values[i] for i in range(n-1)]\n",
    "    A = np.zeros((n, n))\n",
    "    A[0, 0] = 1\n",
    "    A[n-1, n-1] = 1\n",
    "    for i in range(1, n-1):\n",
    "        A[i, i-1] = h[i-1]\n",
    "        A[i, i] = 2 * (h[i-1] + h[i])\n",
    "        A[i, i+1] = h[i]\n",
    "    b = np.zeros(n)\n",
    "    for i in range(1, n-1):\n",
    "        b[i] = 3 * ((y_values[i+1] - y_values[i]) / h[i] - (y_values[i] - y_values[i-1]) / h[i-1])\n",
    "    c = np.linalg.solve(A, b)\n",
    "    b = [(y_values[i+1] - y_values[i]) / h[i] - h[i] * (c[i+1] + 2 * c[i]) / 3 for i in range(n-1)]\n",
    "    d = [(c[i+1] - c[i]) / (3 * h[i]) for i in range(n-1)]\n",
    "    def _basis(i):\n",
    "        \"\"\"\n",
    "        This function returns the basis function for the ith interval.\n",
    "        \"\"\"\n",
    "        return lambda x: y_values[i] + b[i] * (x - x_values[i]) + c[i] * (x - x_values[i])**2 + d[i] * (x - x_values[i])**3\n",
    "    \n",
    "    def _spline(x):\n",
    "        \"\"\"\n",
    "        This function checks if x is in the range of x_values and returns the corresponding spline value.\n",
    "        \"\"\"\n",
    "        if x < x_values[0] or x > x_values[-1]:\n",
    "            raise ValueError(\"x value out of range\")\n",
    "        i = 0\n",
    "        while i < n-1 and x > x_values[i+1]:\n",
    "            i += 1\n",
    "        return _basis(i)(x)\n",
    "    \n",
    "    return _spline"
   ]
  },
  {
   "cell_type": "code",
   "execution_count": 16,
   "id": "702098ca",
   "metadata": {},
   "outputs": [],
   "source": [
    "def cubic_spline_plot(x_values, y_values):\n",
    "    \"\"\"\n",
    "    This function plots the cubic spline interpolation.\n",
    "    param: x_values: list of x values\n",
    "    param: y_values: list of y values\n",
    "    \"\"\"\n",
    "    import matplotlib.pyplot as plt\n",
    "    from numpy import linspace\n",
    "    x = linspace(min(x_values), max(x_values), 100)\n",
    "    y = [cubic_spline(x_values, y_values)(i) for i in x]\n",
    "    plt.plot(x, y, 'b', x_values, y_values, 'ro')\n",
    "    plt.show()"
   ]
  },
  {
   "cell_type": "code",
   "execution_count": 21,
   "id": "b54a7652",
   "metadata": {},
   "outputs": [
    {
     "data": {
      "image/png": "[encoded data removed]",
      "text/plain": [
       "<Figure size 640x480 with 1 Axes>"
      ]
     },
     "metadata": {},
     "output_type": "display_data"
    }
   ],
   "source": [
    "x_values = [0, 1, 2, 3, 4, 5]\n",
    "y_values = [math.exp(x) for x in x_values]\n",
    "cubic_spline_plot(x_values, y_values)"
   ]
  },
  {
   "cell_type": "code",
   "execution_count": null,
   "id": "1b125da0",
   "metadata": {},
   "outputs": [],
   "source": []
  }
 ],
 "metadata": {
  "kernelspec": {
   "display_name": "myenv",
   "language": "python",
   "name": "myenv"
  },
  "language_info": {
   "codemirror_mode": {
    "name": "ipython",
    "version": 3
   },
   "file_extension": ".py",
   "mimetype": "text/x-python",
   "name": "python",
   "nbconvert_exporter": "python",
   "pygments_lexer": "ipython3",
   "version": "3.10.1"
  }
 },
 "nbformat": 4,
 "nbformat_minor": 5
}
